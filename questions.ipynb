{
 "cells": [
  {
   "cell_type": "code",
   "execution_count": 2,
   "metadata": {},
   "outputs": [
    {
     "name": "stdout",
     "output_type": "stream",
     "text": [
      "15\n",
      "120\n",
      "Time Complexity according to order of growth is O( 2n )\n"
     ]
    }
   ],
   "source": [
    "L = [1,2,3,4,5]\n",
    "sum = 0\n",
    "for i in L:\n",
    "    sum = sum +i\n",
    "print(sum)\n",
    "\n",
    "product = 1\n",
    "for i in L:\n",
    "    product = product * i\n",
    "\n",
    "print(product)\n",
    "\n",
    "print(\"Time Complexity according to order of growth is O( 2n )\")"
   ]
  },
  {
   "cell_type": "code",
   "execution_count": 5,
   "metadata": {},
   "outputs": [
    {
     "name": "stdout",
     "output_type": "stream",
     "text": [
      "1,1\n",
      "1,2\n",
      "1,3\n",
      "1,4\n",
      "1,5\n",
      "2,1\n",
      "2,2\n",
      "2,3\n",
      "2,4\n",
      "2,5\n",
      "3,1\n",
      "3,2\n",
      "3,3\n",
      "3,4\n",
      "3,5\n",
      "4,1\n",
      "4,2\n",
      "4,3\n",
      "4,4\n",
      "4,5\n",
      "5,1\n",
      "5,2\n",
      "5,3\n",
      "5,4\n",
      "5,5\n",
      "Time Complexity according to order of growth is O(n^2)\n"
     ]
    }
   ],
   "source": [
    "L = [1,2,3,4,5]\n",
    "for i in L:\n",
    "    for j in L:\n",
    "        print('{},{}'.format(i, j))\n",
    "        \n",
    "print(\"Time Complexity according to order of growth is O(n^2)\")"
   ]
  },
  {
   "cell_type": "code",
   "execution_count": 14,
   "metadata": {},
   "outputs": [
    {
     "name": "stdout",
     "output_type": "stream",
     "text": [
      "123 \n",
      "<class 'str'>\n"
     ]
    }
   ],
   "source": [
    "def intTostr(i):\n",
    "    digits = \"0123456789\"\n",
    "    if i ==0:\n",
    "        return '0'\n",
    "    \n",
    "    result = \" \" \n",
    "    \n",
    "    while i >0:\n",
    "        result = digits[i%10]+ result\n",
    "        i = i // 10\n",
    "    return result\n",
    "\n",
    "print(intTostr(123))\n",
    "print(type(intTostr(123)))\n",
    "\n",
    "\n",
    "print(\"Time Complexity according to order of growth is O(Log)\") "
   ]
  },
  {
   "cell_type": "code",
   "execution_count": 16,
   "metadata": {},
   "outputs": [
    {
     "name": "stdout",
     "output_type": "stream",
     "text": [
      "2254500\n",
      "Time Complexity according to order of growth is O(n Log n)\n"
     ]
    }
   ],
   "source": [
    "n = 1000\n",
    "k = 0  # Initialize k\n",
    "\n",
    "for i in range(n // 2, n + 1):  # Equivalent to 'for (i = n/2; i <= n; i++)'\n",
    "    j = 2\n",
    "    while j <= n:  # Equivalent to 'for (j = 2; j <= n; j = j * 2)'\n",
    "        k = k + n // 2\n",
    "        j *= 2  # Update j (j = j * 2)\n",
    "\n",
    "print(k)  # Output the final value of k\n",
    "\n",
    "print(\"Time Complexity according to order of growth is O(n Log n)\") \n"
   ]
  },
  {
   "cell_type": "code",
   "execution_count": null,
   "metadata": {},
   "outputs": [],
   "source": []
  }
 ],
 "metadata": {
  "kernelspec": {
   "display_name": "Python 3",
   "language": "python",
   "name": "python3"
  },
  "language_info": {
   "codemirror_mode": {
    "name": "ipython",
    "version": 3
   },
   "file_extension": ".py",
   "mimetype": "text/x-python",
   "name": "python",
   "nbconvert_exporter": "python",
   "pygments_lexer": "ipython3",
   "version": "3.12.8"
  }
 },
 "nbformat": 4,
 "nbformat_minor": 2
}
